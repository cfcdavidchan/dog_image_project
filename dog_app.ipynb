{
 "cells": [
  {
   "cell_type": "markdown",
   "metadata": {},
   "source": [
    "# Artificial Intelligence Nanodegree\n",
    "\n",
    "## Convolutional Neural Networks\n",
    "\n",
    "## Project: Write an Algorithm for a Dog Identification App \n",
    "\n",
    "---\n",
    "\n",
    "In this notebook, some template code has already been provided for you, and you will need to implement additional functionality to successfully complete this project. You will not need to modify the included code beyond what is requested. Sections that begin with **'(IMPLEMENTATION)'** in the header indicate that the following block of code will require additional functionality which you must provide. Instructions will be provided for each section, and the specifics of the implementation are marked in the code block with a 'TODO' statement. Please be sure to read the instructions carefully! \n",
    "\n",
    "> **Note**: Once you have completed all of the code implementations, you need to finalize your work by exporting the iPython Notebook as an HTML document. Before exporting the notebook to html, all of the code cells need to have been run so that reviewers can see the final implementation and output. You can then export the notebook by using the menu above and navigating to  \\n\",\n",
    "    \"**File -> Download as -> HTML (.html)**. Include the finished document along with this notebook as your submission.\n",
    "\n",
    "In addition to implementing code, there will be questions that you must answer which relate to the project and your implementation. Each section where you will answer a question is preceded by a **'Question X'** header. Carefully read each question and provide thorough answers in the following text boxes that begin with **'Answer:'**. Your project submission will be evaluated based on your answers to each of the questions and the implementation you provide.\n",
    "\n",
    ">**Note:** Code and Markdown cells can be executed using the **Shift + Enter** keyboard shortcut.  Markdown cells can be edited by double-clicking the cell to enter edit mode.\n",
    "\n",
    "The rubric contains _optional_ \"Stand Out Suggestions\" for enhancing the project beyond the minimum requirements. If you decide to pursue the \"Stand Out Suggestions\", you should include the code in this IPython notebook.\n",
    "\n",
    "\n",
    "\n",
    "---\n",
    "### Why We're Here \n",
    "\n",
    "In this notebook, you will make the first steps towards developing an algorithm that could be used as part of a mobile or web app.  At the end of this project, your code will accept any user-supplied image as input.  If a dog is detected in the image, it will provide an estimate of the dog's breed.  If a human is detected, it will provide an estimate of the dog breed that is most resembling.  The image below displays potential sample output of your finished project (... but we expect that each student's algorithm will behave differently!). \n",
    "\n",
    "![Sample Dog Output](images/sample_dog_output.png)\n",
    "\n",
    "In this real-world setting, you will need to piece together a series of models to perform different tasks; for instance, the algorithm that detects humans in an image will be different from the CNN that infers dog breed.  There are many points of possible failure, and no perfect algorithm exists.  Your imperfect solution will nonetheless create a fun user experience!\n",
    "\n",
    "### The Road Ahead\n",
    "\n",
    "We break the notebook into separate steps.  Feel free to use the links below to navigate the notebook.\n",
    "\n",
    "* [Step 0](#step0): Import Datasets\n",
    "* [Step 1](#step1): Detect Humans\n",
    "* [Step 2](#step2): Detect Dogs\n",
    "* [Step 3](#step3): Create a CNN to Classify Dog Breeds (from Scratch)\n",
    "* [Step 4](#step4): Use a CNN to Classify Dog Breeds (using Transfer Learning)\n",
    "* [Step 5](#step5): Create a CNN to Classify Dog Breeds (using Transfer Learning)\n",
    "* [Step 6](#step6): Write your Algorithm\n",
    "* [Step 7](#step7): Test Your Algorithm\n",
    "\n",
    "---\n",
    "<a id='step0'></a>\n",
    "## Step 0: Import Datasets\n",
    "\n",
    "### Import Dog Dataset\n",
    "\n",
    "In the code cell below, we import a dataset of dog images.  We populate a few variables through the use of the `load_files` function from the scikit-learn library:\n",
    "- `train_files`, `valid_files`, `test_files` - numpy arrays containing file paths to images\n",
    "- `train_targets`, `valid_targets`, `test_targets` - numpy arrays containing onehot-encoded classification labels \n",
    "- `dog_names` - list of string-valued dog breed names for translating labels"
   ]
  },
  {
   "cell_type": "code",
   "execution_count": 1,
   "metadata": {},
   "outputs": [
    {
     "name": "stderr",
     "output_type": "stream",
     "text": [
      "/home/david/anaconda3/lib/python3.6/site-packages/h5py/__init__.py:34: FutureWarning: Conversion of the second argument of issubdtype from `float` to `np.floating` is deprecated. In future, it will be treated as `np.float64 == np.dtype(float).type`.\n",
      "  from ._conv import register_converters as _register_converters\n",
      "Using TensorFlow backend.\n",
      "/home/david/anaconda3/lib/python3.6/site-packages/tensorflow/python/framework/dtypes.py:526: FutureWarning: Passing (type, 1) or '1type' as a synonym of type is deprecated; in a future version of numpy, it will be understood as (type, (1,)) / '(1,)type'.\n",
      "  _np_qint8 = np.dtype([(\"qint8\", np.int8, 1)])\n",
      "/home/david/anaconda3/lib/python3.6/site-packages/tensorflow/python/framework/dtypes.py:527: FutureWarning: Passing (type, 1) or '1type' as a synonym of type is deprecated; in a future version of numpy, it will be understood as (type, (1,)) / '(1,)type'.\n",
      "  _np_quint8 = np.dtype([(\"quint8\", np.uint8, 1)])\n",
      "/home/david/anaconda3/lib/python3.6/site-packages/tensorflow/python/framework/dtypes.py:528: FutureWarning: Passing (type, 1) or '1type' as a synonym of type is deprecated; in a future version of numpy, it will be understood as (type, (1,)) / '(1,)type'.\n",
      "  _np_qint16 = np.dtype([(\"qint16\", np.int16, 1)])\n",
      "/home/david/anaconda3/lib/python3.6/site-packages/tensorflow/python/framework/dtypes.py:529: FutureWarning: Passing (type, 1) or '1type' as a synonym of type is deprecated; in a future version of numpy, it will be understood as (type, (1,)) / '(1,)type'.\n",
      "  _np_quint16 = np.dtype([(\"quint16\", np.uint16, 1)])\n",
      "/home/david/anaconda3/lib/python3.6/site-packages/tensorflow/python/framework/dtypes.py:530: FutureWarning: Passing (type, 1) or '1type' as a synonym of type is deprecated; in a future version of numpy, it will be understood as (type, (1,)) / '(1,)type'.\n",
      "  _np_qint32 = np.dtype([(\"qint32\", np.int32, 1)])\n",
      "/home/david/anaconda3/lib/python3.6/site-packages/tensorflow/python/framework/dtypes.py:535: FutureWarning: Passing (type, 1) or '1type' as a synonym of type is deprecated; in a future version of numpy, it will be understood as (type, (1,)) / '(1,)type'.\n",
      "  np_resource = np.dtype([(\"resource\", np.ubyte, 1)])\n"
     ]
    }
   ],
   "source": [
    "import mlflow\n",
    "import mlflow.keras\n",
    "mlflow.keras.autolog()"
   ]
  },
  {
   "cell_type": "code",
   "execution_count": 2,
   "metadata": {},
   "outputs": [],
   "source": [
    "from keras.backend.tensorflow_backend import set_session\n",
    "import tensorflow as tf\n",
    "config = tf.ConfigProto()\n",
    "config.gpu_options.allow_growth = True\n",
    "config.log_device_placement = True\n",
    "sess = tf.Session(config=config)\n",
    "set_session(sess)"
   ]
  },
  {
   "cell_type": "code",
   "execution_count": 3,
   "metadata": {},
   "outputs": [
    {
     "name": "stderr",
     "output_type": "stream",
     "text": [
      "/home/david/anaconda3/lib/python3.6/site-packages/scipy/_lib/_numpy_compat.py:10: DeprecationWarning: Importing from numpy.testing.nosetester is deprecated since 1.15.0, import from numpy.testing instead.\n",
      "  from numpy.testing.nosetester import import_nose\n",
      "/home/david/anaconda3/lib/python3.6/site-packages/scipy/stats/morestats.py:12: DeprecationWarning: Importing from numpy.testing.decorators is deprecated since numpy 1.15.0, import from numpy.testing instead.\n",
      "  from numpy.testing.decorators import setastest\n"
     ]
    },
    {
     "name": "stdout",
     "output_type": "stream",
     "text": [
      "There are 133 total dog categories.\n",
      "There are 8351 total dog images.\n",
      "\n",
      "There are 6680 training dog images.\n",
      "There are 835 validation dog images.\n",
      "There are 836 test dog images.\n"
     ]
    }
   ],
   "source": [
    "from sklearn.datasets import load_files       \n",
    "from keras.utils import np_utils\n",
    "import numpy as np\n",
    "from glob import glob\n",
    "\n",
    "# define function to load train, test, and validation datasets\n",
    "def load_dataset(path):\n",
    "    data = load_files(path)\n",
    "    dog_files = np.array(data['filenames'])\n",
    "    dog_targets = np_utils.to_categorical(np.array(data['target']), 133)\n",
    "    return dog_files, dog_targets\n",
    "\n",
    "# load train, test, and validation datasets\n",
    "train_files, train_targets = load_dataset('dogImages/train')\n",
    "valid_files, valid_targets = load_dataset('dogImages/valid')\n",
    "test_files, test_targets = load_dataset('dogImages/test')\n",
    "\n",
    "# load list of dog names\n",
    "dog_names = [item[20:-1] for item in sorted(glob(\"dogImages/train/*/\"))]\n",
    "\n",
    "# print statistics about the dataset\n",
    "print('There are %d total dog categories.' % len(dog_names))\n",
    "print('There are %s total dog images.\\n' % len(np.hstack([train_files, valid_files, test_files])))\n",
    "print('There are %d training dog images.' % len(train_files))\n",
    "print('There are %d validation dog images.' % len(valid_files))\n",
    "print('There are %d test dog images.'% len(test_files))"
   ]
  },
  {
   "cell_type": "markdown",
   "metadata": {},
   "source": [
    "### Import Human Dataset\n",
    "\n",
    "In the code cell below, we import a dataset of human images, where the file paths are stored in the numpy array `human_files`."
   ]
  },
  {
   "cell_type": "code",
   "execution_count": 4,
   "metadata": {},
   "outputs": [
    {
     "name": "stdout",
     "output_type": "stream",
     "text": [
      "There are 13233 total human images.\n"
     ]
    }
   ],
   "source": [
    "import random\n",
    "random.seed(8675309)\n",
    "\n",
    "# load filenames in shuffled human dataset\n",
    "human_files = np.array(glob(\"lfw/*/*\"))\n",
    "random.shuffle(human_files)\n",
    "\n",
    "# print statistics about the dataset\n",
    "print('There are %d total human images.' % len(human_files))"
   ]
  },
  {
   "cell_type": "markdown",
   "metadata": {},
   "source": [
    "---\n",
    "<a id='step1'></a>\n",
    "## Step 1: Detect Humans\n",
    "\n",
    "We use OpenCV's implementation of [Haar feature-based cascade classifiers](http://docs.opencv.org/trunk/d7/d8b/tutorial_py_face_detection.html) to detect human faces in images.  OpenCV provides many pre-trained face detectors, stored as XML files on [github](https://github.com/opencv/opencv/tree/master/data/haarcascades).  We have downloaded one of these detectors and stored it in the `haarcascades` directory.\n",
    "\n",
    "In the next code cell, we demonstrate how to use this detector to find human faces in a sample image."
   ]
  },
  {
   "cell_type": "code",
   "execution_count": 5,
   "metadata": {},
   "outputs": [
    {
     "name": "stdout",
     "output_type": "stream",
     "text": [
      "Number of faces detected: 1\n"
     ]
    },
    {
     "data": {
      "image/png": "[encoded data removed]",
      "text/plain": [
       "<matplotlib.figure.Figure at 0x7f13283c5e80>"
      ]
     },
     "metadata": {},
     "output_type": "display_data"
    }
   ],
   "source": [
    "import cv2                \n",
    "import matplotlib.pyplot as plt                        \n",
    "%matplotlib inline                               \n",
    "\n",
    "# extract pre-trained face detector\n",
    "face_cascade = cv2.CascadeClassifier('haarcascades/haarcascade_frontalface_alt.xml')\n",
    "\n",
    "# load color (BGR) image\n",
    "img = cv2.imread(human_files[3])\n",
    "# convert BGR image to grayscale\n",
    "gray = cv2.cvtColor(img, cv2.COLOR_BGR2GRAY)\n",
    "\n",
    "# find faces in image\n",
    "faces = face_cascade.detectMultiScale(gray)\n",
    "\n",
    "# print number of faces detected in the image\n",
    "print('Number of faces detected:', len(faces))\n",
    "\n",
    "# get bounding box for each detected face\n",
    "for (x,y,w,h) in faces:\n",
    "    # add bounding box to color image\n",
    "    cv2.rectangle(img,(x,y),(x+w,y+h),(255,0,0),2)\n",
    "    \n",
    "# convert BGR image to RGB for plotting\n",
    "cv_rgb = cv2.cvtColor(img, cv2.COLOR_BGR2RGB)\n",
    "\n",
    "# display the image, along with bounding box\n",
    "plt.imshow(cv_rgb)\n",
    "plt.show()"
   ]
  },
  {
   "cell_type": "markdown",
   "metadata": {},
   "source": [
    "Before using any of the face detectors, it is standard procedure to convert the images to grayscale.  The `detectMultiScale` function executes the classifier stored in `face_cascade` and takes the grayscale image as a parameter.  \n",
    "\n",
    "In the above code, `faces` is a numpy array of detected faces, where each row corresponds to a detected face.  Each detected face is a 1D array with four entries that specifies the bounding box of the detected face.  The first two entries in the array (extracted in the above code as `x` and `y`) specify the horizontal and vertical positions of the top left corner of the bounding box.  The last two entries in the array (extracted here as `w` and `h`) specify the width and height of the box.\n",
    "\n",
    "### Write a Human Face Detector\n",
    "\n",
    "We can use this procedure to write a function that returns `True` if a human face is detected in an image and `False` otherwise.  This function, aptly named `face_detector`, takes a string-valued file path to an image as input and appears in the code block below."
   ]
  },
  {
   "cell_type": "code",
   "execution_count": 6,
   "metadata": {
    "collapsed": true
   },
   "outputs": [],
   "source": [
    "# returns \"True\" if face is detected in image stored at img_path\n",
    "def face_detector(img_path):\n",
    "    img = cv2.imread(img_path)\n",
    "    gray = cv2.cvtColor(img, cv2.COLOR_BGR2GRAY)\n",
    "    faces = face_cascade.detectMultiScale(gray)\n",
    "    return len(faces) > 0"
   ]
  },
  {
   "cell_type": "markdown",
   "metadata": {},
   "source": [
    "### (IMPLEMENTATION) Assess the Human Face Detector\n",
    "\n",
    "__Question 1:__ Use the code cell below to test the performance of the `face_detector` function.  \n",
    "- What percentage of the first 100 images in `human_files` have a detected human face?\n",
    "    - 100%\n",
    "- What percentage of the first 100 images in `dog_files` have a detected human face? \n",
    "    - 11%\n",
    "    \n",
    "Ideally, we would like 100% of human images with a detected face and 0% of dog images with a detected face.  You will see that our algorithm falls short of this goal, but still gives acceptable performance.  We extract the file paths for the first 100 images from each of the datasets and store them in the numpy arrays `human_files_short` and `dog_files_short`.\n",
    "\n",
    "__Answer:__ "
   ]
  },
  {
   "cell_type": "code",
   "execution_count": 7,
   "metadata": {},
   "outputs": [
    {
     "name": "stdout",
     "output_type": "stream",
     "text": [
      "Percentage of human_files have a detected human face: 97%\n",
      "Percentage of dog_files have a detected human face: 12%\n"
     ]
    }
   ],
   "source": [
    "human_files_short = human_files[:100]\n",
    "dog_files_short = train_files[:100]\n",
    "# Do NOT modify the code above this line.\n",
    "\n",
    "## TODO: Test the performance of the face_detector algorithm \n",
    "detected_human = len([pic for pic in human_files_short if face_detector(pic) == True])\n",
    "detected_dog = len([pic for pic in dog_files_short if face_detector(pic) == True])\n",
    "print ('Percentage of human_files have a detected human face: %d%%' %(detected_human/len(human_files_short)*100))\n",
    "print ('Percentage of dog_files have a detected human face: %d%%' %(detected_dog/len(dog_files_short)*100))\n",
    "\n",
    "## on the images in human_files_short and dog_files_short."
   ]
  },
  {
   "cell_type": "markdown",
   "metadata": {},
   "source": [
    "__Question 2:__ This algorithmic choice necessitates that we communicate to the user that we accept human images only when they provide a clear view of a face (otherwise, we risk having unneccessarily frustrated users!). In your opinion, is this a reasonable expectation to pose on the user? If not, can you think of a way to detect humans in images that does not necessitate an image with a clearly presented face?\n",
    "\n",
    "__Answer:__ This might not be a very reasonable requirements or expectation. Sometimes, when we take a photo, we will not always take a clear view of a face. Our faces might be hidden by somethings, such as hair or other things. We could train a model that is for identifing how many percentages of facial features,such as eyes, ears or mouth, to determine whether it is a human.\n",
    "\n",
    "We suggest the face detector from OpenCV as a potential way to detect human images in your algorithm, but you are free to explore other approaches, especially approaches that make use of deep learning :).  Please use the code cell below to design and test your own face detection algorithm.  If you decide to pursue this _optional_ task, report performance on each of the datasets."
   ]
  },
  {
   "cell_type": "markdown",
   "metadata": {},
   "source": [
    "---\n",
    "<a id='step2'></a>\n",
    "## Step 2: Detect Dogs\n",
    "\n",
    "In this section, we use a pre-trained [ResNet-50](http://ethereon.github.io/netscope/#/gist/db945b393d40bfa26006) model to detect dogs in images.  Our first line of code downloads the ResNet-50 model, along with weights that have been trained on [ImageNet](http://www.image-net.org/), a very large, very popular dataset used for image classification and other vision tasks.  ImageNet contains over 10 million URLs, each linking to an image containing an object from one of [1000 categories](https://gist.github.com/yrevar/942d3a0ac09ec9e5eb3a).  Given an image, this pre-trained ResNet-50 model returns a prediction (derived from the available categories in ImageNet) for the object that is contained in the image."
   ]
  },
  {
   "cell_type": "code",
   "execution_count": 8,
   "metadata": {},
   "outputs": [
    {
     "name": "stdout",
     "output_type": "stream",
     "text": [
      "WARNING:tensorflow:From /home/david/anaconda3/lib/python3.6/site-packages/tensorflow/python/framework/op_def_library.py:263: colocate_with (from tensorflow.python.framework.ops) is deprecated and will be removed in a future version.\n",
      "Instructions for updating:\n",
      "Colocations handled automatically by placer.\n"
     ]
    },
    {
     "name": "stderr",
     "output_type": "stream",
     "text": [
      "/home/david/anaconda3/lib/python3.6/site-packages/tensorflow/python/framework/tensor_util.py:573: DeprecationWarning: np.asscalar(a) is deprecated since NumPy v1.16, use a.item() instead\n",
      "  append_fn(tensor_proto, proto_values)\n"
     ]
    }
   ],
   "source": [
    "from keras.applications.resnet50 import ResNet50\n",
    "from keras.backend.tensorflow_backend import set_session\n",
    "import tensorflow as tf\n",
    "config = tf.ConfigProto()\n",
    "config.gpu_options.allow_growth = True\n",
    "config.log_device_placement = True\n",
    "sess = tf.Session(config=config)\n",
    "set_session(sess)\n",
    "# define ResNet50 model\n",
    "ResNet50_model = ResNet50(weights='imagenet')"
   ]
  },
  {
   "cell_type": "markdown",
   "metadata": {},
   "source": [
    "### Pre-process the Data\n",
    "\n",
    "When using TensorFlow as backend, Keras CNNs require a 4D array (which we'll also refer to as a 4D tensor) as input, with shape\n",
    "\n",
    "$$\n",
    "(\\text{nb_samples}, \\text{rows}, \\text{columns}, \\text{channels}),\n",
    "$$\n",
    "\n",
    "where `nb_samples` corresponds to the total number of images (or samples), and `rows`, `columns`, and `channels` correspond to the number of rows, columns, and channels for each image, respectively.  \n",
    "\n",
    "The `path_to_tensor` function below takes a string-valued file path to a color image as input and returns a 4D tensor suitable for supplying to a Keras CNN.  The function first loads the image and resizes it to a square image that is $224 \\times 224$ pixels.  Next, the image is converted to an array, which is then resized to a 4D tensor.  In this case, since we are working with color images, each image has three channels.  Likewise, since we are processing a single image (or sample), the returned tensor will always have shape\n",
    "\n",
    "$$\n",
    "(1, 224, 224, 3).\n",
    "$$\n",
    "\n",
    "The `paths_to_tensor` function takes a numpy array of string-valued image paths as input and returns a 4D tensor with shape \n",
    "\n",
    "$$\n",
    "(\\text{nb_samples}, 224, 224, 3).\n",
    "$$\n",
    "\n",
    "Here, `nb_samples` is the number of samples, or number of images, in the supplied array of image paths.  It is best to think of `nb_samples` as the number of 3D tensors (where each 3D tensor corresponds to a different image) in your dataset!"
   ]
  },
  {
   "cell_type": "code",
   "execution_count": 9,
   "metadata": {
    "collapsed": true
   },
   "outputs": [],
   "source": [
    "from keras.preprocessing import image                  \n",
    "from tqdm import tqdm\n",
    "\n",
    "def path_to_tensor(img_path):\n",
    "    # loads RGB image as PIL.Image.Image type\n",
    "    img = image.load_img(img_path, target_size=(224, 224))\n",
    "    # convert PIL.Image.Image type to 3D tensor with shape (224, 224, 3)\n",
    "    x = image.img_to_array(img)\n",
    "    # convert 3D tensor to 4D tensor with shape (1, 224, 224, 3) and return 4D tensor\n",
    "    return np.expand_dims(x, axis=0)\n",
    "\n",
    "def paths_to_tensor(img_paths):\n",
    "    list_of_tensors = [path_to_tensor(img_path) for img_path in tqdm(img_paths)]\n",
    "    return np.vstack(list_of_tensors)"
   ]
  },
  {
   "cell_type": "markdown",
   "metadata": {},
   "source": [
    "### Making Predictions with ResNet-50\n",
    "\n",
    "Getting the 4D tensor ready for ResNet-50, and for any other pre-trained model in Keras, requires some additional processing.  First, the RGB image is converted to BGR by reordering the channels.  All pre-trained models have the additional normalization step that the mean pixel (expressed in RGB as $[103.939, 116.779, 123.68]$ and calculated from all pixels in all images in ImageNet) must be subtracted from every pixel in each image.  This is implemented in the imported function `preprocess_input`.  If you're curious, you can check the code for `preprocess_input` [here](https://github.com/fchollet/keras/blob/master/keras/applications/imagenet_utils.py).\n",
    "\n",
    "Now that we have a way to format our image for supplying to ResNet-50, we are now ready to use the model to extract the predictions.  This is accomplished with the `predict` method, which returns an array whose $i$-th entry is the model's predicted probability that the image belongs to the $i$-th ImageNet category.  This is implemented in the `ResNet50_predict_labels` function below.\n",
    "\n",
    "By taking the argmax of the predicted probability vector, we obtain an integer corresponding to the model's predicted object class, which we can identify with an object category through the use of this [dictionary](https://gist.github.com/yrevar/942d3a0ac09ec9e5eb3a). "
   ]
  },
  {
   "cell_type": "code",
   "execution_count": 10,
   "metadata": {
    "collapsed": true
   },
   "outputs": [],
   "source": [
    "from keras.applications.resnet50 import preprocess_input, decode_predictions\n",
    "\n",
    "def ResNet50_predict_labels(img_path):\n",
    "    # returns prediction vector for image located at img_path\n",
    "    img = preprocess_input(path_to_tensor(img_path))\n",
    "    return np.argmax(ResNet50_model.predict(img))"
   ]
  },
  {
   "cell_type": "markdown",
   "metadata": {},
   "source": [
    "### Write a Dog Detector\n",
    "\n",
    "While looking at the [dictionary](https://gist.github.com/yrevar/942d3a0ac09ec9e5eb3a), you will notice that the categories corresponding to dogs appear in an uninterrupted sequence and correspond to dictionary keys 151-268, inclusive, to include all categories from `'Chihuahua'` to `'Mexican hairless'`.  Thus, in order to check to see if an image is predicted to contain a dog by the pre-trained ResNet-50 model, we need only check if the `ResNet50_predict_labels` function above returns a value between 151 and 268 (inclusive).\n",
    "\n",
    "We use these ideas to complete the `dog_detector` function below, which returns `True` if a dog is detected in an image (and `False` if not)."
   ]
  },
  {
   "cell_type": "code",
   "execution_count": 11,
   "metadata": {
    "collapsed": true
   },
   "outputs": [],
   "source": [
    "### returns \"True\" if a dog is detected in the image stored at img_path\n",
    "def dog_detector(img_path):\n",
    "    prediction = ResNet50_predict_labels(img_path)\n",
    "    return ((prediction <= 268) & (prediction >= 151)) "
   ]
  },
  {
   "cell_type": "markdown",
   "metadata": {},
   "source": [
    "### (IMPLEMENTATION) Assess the Dog Detector\n",
    "\n",
    "__Question 3:__ Use the code cell below to test the performance of your `dog_detector` function.  \n",
    "- What percentage of the images in `human_files_short` have a detected dog?  \n",
    "- What percentage of the images in `dog_files_short` have a detected dog?\n",
    "\n",
    "__Answer:__ "
   ]
  },
  {
   "cell_type": "code",
   "execution_count": 12,
   "metadata": {},
   "outputs": [
    {
     "name": "stdout",
     "output_type": "stream",
     "text": [
      "Percentage of human_files have a detected human face: 0%\n",
      "Percentage of dog_files have a detected human face: 100%\n"
     ]
    }
   ],
   "source": [
    "### TODO: Test the performance of the dog_detector function\n",
    "detected_human = len([pic for pic in human_files_short if dog_detector(pic) == True])\n",
    "detected_dog = len([pic for pic in dog_files_short if dog_detector(pic) == True])\n",
    "print ('Percentage of human_files have a detected human face: %d%%' %(detected_human/len(human_files_short)*100))\n",
    "print ('Percentage of dog_files have a detected human face: %d%%' %(detected_dog/len(dog_files_short)*100))\n",
    "\n",
    "### on the images in human_files_short and dog_files_short."
   ]
  },
  {
   "cell_type": "markdown",
   "metadata": {},
   "source": [
    "---\n",
    "<a id='step3'></a>\n",
    "## Step 3: Create a CNN to Classify Dog Breeds (from Scratch)\n",
    "\n",
    "Now that we have functions for detecting humans and dogs in images, we need a way to predict breed from images.  In this step, you will create a CNN that classifies dog breeds.  You must create your CNN _from scratch_ (so, you can't use transfer learning _yet_!), and you must attain a test accuracy of at least 1%.  In Step 5 of this notebook, you will have the opportunity to use transfer learning to create a CNN that attains greatly improved accuracy.\n",
    "\n",
    "Be careful with adding too many trainable layers!  More parameters means longer training, which means you are more likely to need a GPU to accelerate the training process.  Thankfully, Keras provides a handy estimate of the time that each epoch is likely to take; you can extrapolate this estimate to figure out how long it will take for your algorithm to train. \n",
    "\n",
    "We mention that the task of assigning breed to dogs from images is considered exceptionally challenging.  To see why, consider that *even a human* would have great difficulty in distinguishing between a Brittany and a Welsh Springer Spaniel.  \n",
    "\n",
    "Brittany | Welsh Springer Spaniel\n",
    "- | - \n",
    "<img src=\"images/Brittany_02625.jpg\" width=\"100\"> | <img src=\"images/Welsh_springer_spaniel_08203.jpg\" width=\"200\">\n",
    "\n",
    "It is not difficult to find other dog breed pairs with minimal inter-class variation (for instance, Curly-Coated Retrievers and American Water Spaniels).  \n",
    "\n",
    "Curly-Coated Retriever | American Water Spaniel\n",
    "- | -\n",
    "<img src=\"images/Curly-coated_retriever_03896.jpg\" width=\"200\"> | <img src=\"images/American_water_spaniel_00648.jpg\" width=\"200\">\n",
    "\n",
    "\n",
    "Likewise, recall that labradors come in yellow, chocolate, and black.  Your vision-based algorithm will have to conquer this high intra-class variation to determine how to classify all of these different shades as the same breed.  \n",
    "\n",
    "Yellow Labrador | Chocolate Labrador | Black Labrador\n",
    "- | -\n",
    "<img src=\"images/Labrador_retriever_06457.jpg\" width=\"150\"> | <img src=\"images/Labrador_retriever_06455.jpg\" width=\"240\"> | <img src=\"images/Labrador_retriever_06449.jpg\" width=\"220\">\n",
    "\n",
    "We also mention that random chance presents an exceptionally low bar: setting aside the fact that the classes are slightly imabalanced, a random guess will provide a correct answer roughly 1 in 133 times, which corresponds to an accuracy of less than 1%.  \n",
    "\n",
    "Remember that the practice is far ahead of the theory in deep learning.  Experiment with many different architectures, and trust your intuition.  And, of course, have fun! \n",
    "\n",
    "### Pre-process the Data\n",
    "\n",
    "We rescale the images by dividing every pixel in every image by 255."
   ]
  },
  {
   "cell_type": "code",
   "execution_count": 13,
   "metadata": {},
   "outputs": [
    {
     "name": "stderr",
     "output_type": "stream",
     "text": [
      "100%|██████████| 6680/6680 [00:40<00:00, 163.45it/s]\n",
      "100%|██████████| 835/835 [02:11<00:00, 37.55it/s]\n",
      "100%|██████████| 836/836 [00:34<00:00, 24.50it/s]\n"
     ]
    }
   ],
   "source": [
    "from PIL import ImageFile                            \n",
    "ImageFile.LOAD_TRUNCATED_IMAGES = True                 \n",
    "\n",
    "# pre-process the data for Keras\n",
    "train_tensors = paths_to_tensor(train_files).astype('float32')/255\n",
    "valid_tensors = paths_to_tensor(valid_files).astype('float32')/255\n",
    "test_tensors = paths_to_tensor(test_files).astype('float32')/255"
   ]
  },
  {
   "cell_type": "markdown",
   "metadata": {},
   "source": [
    "### (IMPLEMENTATION) Model Architecture\n",
    "\n",
    "Create a CNN to classify dog breed.  At the end of your code cell block, summarize the layers of your model by executing the line:\n",
    "    \n",
    "        model.summary()\n",
    "\n",
    "We have imported some Python modules to get you started, but feel free to import as many modules as you need.  If you end up getting stuck, here's a hint that specifies a model that trains relatively fast on CPU and attains >1% test accuracy in 5 epochs:\n",
    "\n",
    "![Sample CNN](images/sample_cnn.png)\n",
    "           \n",
    "__Question 4:__ Outline the steps you took to get to your final CNN architecture and your reasoning at each step.  If you chose to use the hinted architecture above, describe why you think that CNN architecture should work well for the image classification task.\n",
    "\n",
    "__Answer:__ The architecture above is being used in this part. CNN is a awesome and famous tool for doing image recognition by using Convolution,Non Linearity (ReLU), Pooling or Sub Sampling and Classification (Fully Connected Layer). "
   ]
  },
  {
   "cell_type": "code",
   "execution_count": 14,
   "metadata": {},
   "outputs": [
    {
     "name": "stdout",
     "output_type": "stream",
     "text": [
      "(224, 224, 3)\n",
      "(224, 224, 3)\n",
      "4\n"
     ]
    }
   ],
   "source": [
    "print (train_tensors.shape[1:])\n",
    "print (valid_tensors.shape[1:4])\n",
    "print (len(test_tensors.shape))"
   ]
  },
  {
   "cell_type": "code",
   "execution_count": 15,
   "metadata": {},
   "outputs": [
    {
     "name": "stdout",
     "output_type": "stream",
     "text": [
      "Model: \"sequential_1\"\n",
      "_________________________________________________________________\n",
      "Layer (type)                 Output Shape              Param #   \n",
      "=================================================================\n",
      "conv2d_1 (Conv2D)            (None, 223, 223, 16)      208       \n",
      "_________________________________________________________________\n",
      "max_pooling2d_2 (MaxPooling2 (None, 111, 111, 16)      0         \n",
      "_________________________________________________________________\n",
      "conv2d_2 (Conv2D)            (None, 110, 110, 32)      2080      \n",
      "_________________________________________________________________\n",
      "max_pooling2d_3 (MaxPooling2 (None, 55, 55, 32)        0         \n",
      "_________________________________________________________________\n",
      "conv2d_3 (Conv2D)            (None, 54, 54, 64)        8256      \n",
      "_________________________________________________________________\n",
      "max_pooling2d_4 (MaxPooling2 (None, 27, 27, 64)        0         \n",
      "_________________________________________________________________\n",
      "global_average_pooling2d_1 ( (None, 64)                0         \n",
      "_________________________________________________________________\n",
      "dense_1 (Dense)              (None, 133)               8645      \n",
      "=================================================================\n",
      "Total params: 19,189\n",
      "Trainable params: 19,189\n",
      "Non-trainable params: 0\n",
      "_________________________________________________________________\n"
     ]
    }
   ],
   "source": [
    "from keras.layers import Conv2D, MaxPooling2D, GlobalAveragePooling2D\n",
    "from keras.layers import Dropout, Flatten, Dense\n",
    "from keras.models import Sequential\n",
    "\n",
    "model = Sequential()\n",
    "\n",
    "### TODO: Define your architecture.\n",
    "model.add(Conv2D(filters = 16, kernel_size = 2, strides=1, padding='valid',activation='relu', input_shape =train_tensors.shape[1:]))\n",
    "model.add(MaxPooling2D(pool_size=2, strides=2, padding='valid'))\n",
    "model.add(Conv2D(filters = 32, kernel_size = 2,activation='relu', strides=1, padding='valid'))\n",
    "model.add(MaxPooling2D(pool_size=2, strides=2, padding='valid'))\n",
    "model.add(Conv2D(filters = 64, kernel_size = 2,activation='relu', strides=1, padding='valid'))\n",
    "model.add(MaxPooling2D(pool_size=2, strides=2, padding='valid'))\n",
    "model.add(GlobalAveragePooling2D())\n",
    "model.add(Dense(133))\n",
    "\n",
    "model.summary()"
   ]
  },
  {
   "cell_type": "markdown",
   "metadata": {},
   "source": [
    "### Compile the Model"
   ]
  },
  {
   "cell_type": "code",
   "execution_count": 16,
   "metadata": {
    "collapsed": true
   },
   "outputs": [],
   "source": [
    "model.compile(optimizer='rmsprop', loss='categorical_crossentropy', metrics=['accuracy'])"
   ]
  },
  {
   "cell_type": "markdown",
   "metadata": {},
   "source": [
    "### (IMPLEMENTATION) Train the Model\n",
    "\n",
    "Train your model in the code cell below.  Use model checkpointing to save the model that attains the best validation loss.\n",
    "\n",
    "You are welcome to [augment the training data](https://blog.keras.io/building-powerful-image-classification-models-using-very-little-data.html), but this is not a requirement. "
   ]
  },
  {
   "cell_type": "code",
   "execution_count": 17,
   "metadata": {},
   "outputs": [
    {
     "name": "stdout",
     "output_type": "stream",
     "text": [
      "WARNING:tensorflow:From /home/david/anaconda3/lib/python3.6/site-packages/tensorflow/python/ops/math_ops.py:3066: to_int32 (from tensorflow.python.ops.math_ops) is deprecated and will be removed in a future version.\n",
      "Instructions for updating:\n",
      "Use tf.cast instead.\n",
      "Train on 6680 samples, validate on 835 samples\n",
      "Epoch 1/10\n",
      "6680/6680 [==============================] - 15s 2ms/step - loss: 8.4941 - acc: 0.0075 - val_loss: 8.2231 - val_acc: 0.0072\n",
      "\n",
      "Epoch 00001: val_loss improved from inf to 8.22312, saving model to saved_models/weights.best.from_scratch.hdf5\n",
      "Epoch 2/10\n",
      "6680/6680 [==============================] - 5s 789us/step - loss: 8.2424 - acc: 0.0075 - val_loss: 8.2231 - val_acc: 0.0072\n",
      "\n",
      "Epoch 00002: val_loss did not improve from 8.22312\n",
      "Epoch 3/10\n",
      "6680/6680 [==============================] - 5s 787us/step - loss: 8.2424 - acc: 0.0075 - val_loss: 8.2231 - val_acc: 0.0072\n",
      "\n",
      "Epoch 00003: val_loss did not improve from 8.22312\n",
      "Epoch 4/10\n",
      "6680/6680 [==============================] - 5s 781us/step - loss: 8.2424 - acc: 0.0075 - val_loss: 8.2231 - val_acc: 0.0072\n",
      "\n",
      "Epoch 00004: val_loss did not improve from 8.22312\n",
      "Epoch 5/10\n",
      "6680/6680 [==============================] - 5s 782us/step - loss: 8.2424 - acc: 0.0075 - val_loss: 8.2231 - val_acc: 0.0072\n",
      "\n",
      "Epoch 00005: val_loss did not improve from 8.22312\n",
      "Epoch 6/10\n",
      "6680/6680 [==============================] - 5s 774us/step - loss: 8.2424 - acc: 0.0075 - val_loss: 8.2231 - val_acc: 0.0072\n",
      "\n",
      "Epoch 00006: val_loss did not improve from 8.22312\n",
      "Epoch 7/10\n",
      "6680/6680 [==============================] - 5s 768us/step - loss: 8.2424 - acc: 0.0075 - val_loss: 8.2231 - val_acc: 0.0072\n",
      "\n",
      "Epoch 00007: val_loss did not improve from 8.22312\n",
      "Epoch 8/10\n",
      "6680/6680 [==============================] - 5s 761us/step - loss: 8.2424 - acc: 0.0075 - val_loss: 8.2231 - val_acc: 0.0072\n",
      "\n",
      "Epoch 00008: val_loss did not improve from 8.22312\n",
      "Epoch 9/10\n",
      "6680/6680 [==============================] - 5s 764us/step - loss: 8.2424 - acc: 0.0075 - val_loss: 8.2231 - val_acc: 0.0072\n",
      "\n",
      "Epoch 00009: val_loss did not improve from 8.22312\n",
      "Epoch 10/10\n",
      "6680/6680 [==============================] - 5s 750us/step - loss: 8.2424 - acc: 0.0075 - val_loss: 8.2231 - val_acc: 0.0072\n",
      "\n",
      "Epoch 00010: val_loss did not improve from 8.22312\n"
     ]
    },
    {
     "data": {
      "text/plain": [
       "<keras.callbacks.History at 0x7f12a9315630>"
      ]
     },
     "execution_count": 17,
     "metadata": {},
     "output_type": "execute_result"
    }
   ],
   "source": [
    "from keras.callbacks import ModelCheckpoint  \n",
    "\n",
    "### TODO: specify the number of epochs that you would like to use to train the model.\n",
    "\n",
    "epochs = 10\n",
    "\n",
    "### Do NOT modify the code below this line.\n",
    "\n",
    "checkpointer = ModelCheckpoint(filepath='saved_models/weights.best.from_scratch.hdf5', \n",
    "                               verbose=1, save_best_only=True)\n",
    "\n",
    "model.fit(train_tensors, train_targets, \n",
    "          validation_data=(valid_tensors, valid_targets),\n",
    "          epochs=epochs, batch_size=20, callbacks=[checkpointer], verbose=1)"
   ]
  },
  {
   "cell_type": "markdown",
   "metadata": {},
   "source": [
    "### Load the Model with the Best Validation Loss"
   ]
  },
  {
   "cell_type": "code",
   "execution_count": 18,
   "metadata": {
    "collapsed": true
   },
   "outputs": [],
   "source": [
    "model.load_weights('saved_models/weights.best.from_scratch.hdf5')"
   ]
  },
  {
   "cell_type": "markdown",
   "metadata": {},
   "source": [
    "### Test the Model\n",
    "\n",
    "Try out your model on the test dataset of dog images.  Ensure that your test accuracy is greater than 1%."
   ]
  },
  {
   "cell_type": "code",
   "execution_count": 19,
   "metadata": {},
   "outputs": [
    {
     "name": "stdout",
     "output_type": "stream",
     "text": [
      "Test accuracy: 0.7177%\n"
     ]
    }
   ],
   "source": [
    "# get index of predicted dog breed for each image in test set\n",
    "dog_breed_predictions = [np.argmax(model.predict(np.expand_dims(tensor, axis=0))) for tensor in test_tensors]\n",
    "\n",
    "# report test accuracy\n",
    "test_accuracy = 100*np.sum(np.array(dog_breed_predictions)==np.argmax(test_targets, axis=1))/len(dog_breed_predictions)\n",
    "print('Test accuracy: %.4f%%' % test_accuracy)"
   ]
  },
  {
   "cell_type": "markdown",
   "metadata": {},
   "source": [
    "---\n",
    "<a id='step4'></a>\n",
    "## Step 4: Use a CNN to Classify Dog Breeds\n",
    "\n",
    "To reduce training time without sacrificing accuracy, we show you how to train a CNN using transfer learning.  In the following step, you will get a chance to use transfer learning to train your own CNN.\n",
    "\n",
    "### Obtain Bottleneck Features"
   ]
  },
  {
   "cell_type": "code",
   "execution_count": 20,
   "metadata": {
    "scrolled": true
   },
   "outputs": [],
   "source": [
    "bottleneck_features = np.load('./bottleneck_features/DogVGG16Data.npz')\n",
    "train_VGG16 = bottleneck_features['train']\n",
    "valid_VGG16 = bottleneck_features['valid']\n",
    "test_VGG16 = bottleneck_features['test']"
   ]
  },
  {
   "cell_type": "code",
   "execution_count": 21,
   "metadata": {},
   "outputs": [
    {
     "data": {
      "text/plain": [
       "(6680, 7, 7, 512)"
      ]
     },
     "execution_count": 21,
     "metadata": {},
     "output_type": "execute_result"
    }
   ],
   "source": [
    "train_VGG16.shape"
   ]
  },
  {
   "cell_type": "markdown",
   "metadata": {},
   "source": [
    "### Model Architecture\n",
    "\n",
    "The model uses the the pre-trained VGG-16 model as a fixed feature extractor, where the last convolutional output of VGG-16 is fed as input to our model.  We only add a global average pooling layer and a fully connected layer, where the latter contains one node for each dog category and is equipped with a softmax."
   ]
  },
  {
   "cell_type": "code",
   "execution_count": 22,
   "metadata": {},
   "outputs": [
    {
     "name": "stdout",
     "output_type": "stream",
     "text": [
      "Model: \"sequential_2\"\n",
      "_________________________________________________________________\n",
      "Layer (type)                 Output Shape              Param #   \n",
      "=================================================================\n",
      "global_average_pooling2d_2 ( (None, 512)               0         \n",
      "_________________________________________________________________\n",
      "dense_2 (Dense)              (None, 133)               68229     \n",
      "=================================================================\n",
      "Total params: 68,229\n",
      "Trainable params: 68,229\n",
      "Non-trainable params: 0\n",
      "_________________________________________________________________\n"
     ]
    }
   ],
   "source": [
    "VGG16_model = Sequential()\n",
    "VGG16_model.add(GlobalAveragePooling2D(input_shape=train_VGG16.shape[1:]))\n",
    "VGG16_model.add(Dense(133, activation='softmax'))\n",
    "\n",
    "VGG16_model.summary()"
   ]
  },
  {
   "cell_type": "markdown",
   "metadata": {},
   "source": [
    "### Compile the Model"
   ]
  },
  {
   "cell_type": "code",
   "execution_count": 23,
   "metadata": {
    "collapsed": true
   },
   "outputs": [],
   "source": [
    "VGG16_model.compile(loss='categorical_crossentropy', optimizer='rmsprop', metrics=['accuracy'])"
   ]
  },
  {
   "cell_type": "markdown",
   "metadata": {},
   "source": [
    "### Train the Model"
   ]
  },
  {
   "cell_type": "code",
   "execution_count": 24,
   "metadata": {},
   "outputs": [
    {
     "name": "stdout",
     "output_type": "stream",
     "text": [
      "Train on 6680 samples, validate on 835 samples\n",
      "Epoch 1/20\n",
      "6680/6680 [==============================] - 2s 315us/step - loss: 12.4190 - acc: 0.1178 - val_loss: 10.7499 - val_acc: 0.2204\n",
      "\n",
      "Epoch 00001: val_loss improved from inf to 10.74986, saving model to saved_models/weights.best.VGG16.hdf5\n",
      "Epoch 2/20\n",
      "6680/6680 [==============================] - 1s 136us/step - loss: 10.1628 - acc: 0.2750 - val_loss: 10.1101 - val_acc: 0.2766\n",
      "\n",
      "Epoch 00002: val_loss improved from 10.74986 to 10.11014, saving model to saved_models/weights.best.VGG16.hdf5\n",
      "Epoch 3/20\n",
      "6680/6680 [==============================] - 1s 140us/step - loss: 9.5601 - acc: 0.3386 - val_loss: 9.8355 - val_acc: 0.3150\n",
      "\n",
      "Epoch 00003: val_loss improved from 10.11014 to 9.83554, saving model to saved_models/weights.best.VGG16.hdf5\n",
      "Epoch 4/20\n",
      "6680/6680 [==============================] - 1s 140us/step - loss: 9.3300 - acc: 0.3760 - val_loss: 9.6154 - val_acc: 0.3389\n",
      "\n",
      "Epoch 00004: val_loss improved from 9.83554 to 9.61539, saving model to saved_models/weights.best.VGG16.hdf5\n",
      "Epoch 5/20\n",
      "6680/6680 [==============================] - 1s 140us/step - loss: 9.0433 - acc: 0.4043 - val_loss: 9.4261 - val_acc: 0.3401\n",
      "\n",
      "Epoch 00005: val_loss improved from 9.61539 to 9.42615, saving model to saved_models/weights.best.VGG16.hdf5\n",
      "Epoch 6/20\n",
      "6680/6680 [==============================] - 1s 136us/step - loss: 8.8686 - acc: 0.4226 - val_loss: 9.4124 - val_acc: 0.3437\n",
      "\n",
      "Epoch 00006: val_loss improved from 9.42615 to 9.41238, saving model to saved_models/weights.best.VGG16.hdf5\n",
      "Epoch 7/20\n",
      "6680/6680 [==============================] - 1s 143us/step - loss: 8.7619 - acc: 0.4346 - val_loss: 9.1848 - val_acc: 0.3629\n",
      "\n",
      "Epoch 00007: val_loss improved from 9.41238 to 9.18476, saving model to saved_models/weights.best.VGG16.hdf5\n",
      "Epoch 8/20\n",
      "6680/6680 [==============================] - 1s 138us/step - loss: 8.4229 - acc: 0.4488 - val_loss: 8.9899 - val_acc: 0.3701\n",
      "\n",
      "Epoch 00008: val_loss improved from 9.18476 to 8.98994, saving model to saved_models/weights.best.VGG16.hdf5\n",
      "Epoch 9/20\n",
      "6680/6680 [==============================] - 1s 141us/step - loss: 8.2925 - acc: 0.4657 - val_loss: 8.9585 - val_acc: 0.3832\n",
      "\n",
      "Epoch 00009: val_loss improved from 8.98994 to 8.95849, saving model to saved_models/weights.best.VGG16.hdf5\n",
      "Epoch 10/20\n",
      "6680/6680 [==============================] - 1s 139us/step - loss: 8.2187 - acc: 0.4719 - val_loss: 8.8808 - val_acc: 0.3856\n",
      "\n",
      "Epoch 00010: val_loss improved from 8.95849 to 8.88082, saving model to saved_models/weights.best.VGG16.hdf5\n",
      "Epoch 11/20\n",
      "6680/6680 [==============================] - 1s 143us/step - loss: 8.1432 - acc: 0.4793 - val_loss: 8.7232 - val_acc: 0.3880\n",
      "\n",
      "Epoch 00011: val_loss improved from 8.88082 to 8.72318, saving model to saved_models/weights.best.VGG16.hdf5\n",
      "Epoch 12/20\n",
      "6680/6680 [==============================] - 1s 141us/step - loss: 8.0458 - acc: 0.4870 - val_loss: 8.6584 - val_acc: 0.4036\n",
      "\n",
      "Epoch 00012: val_loss improved from 8.72318 to 8.65838, saving model to saved_models/weights.best.VGG16.hdf5\n",
      "Epoch 13/20\n",
      "6680/6680 [==============================] - 1s 137us/step - loss: 7.9323 - acc: 0.4942 - val_loss: 8.6415 - val_acc: 0.3904\n",
      "\n",
      "Epoch 00013: val_loss improved from 8.65838 to 8.64152, saving model to saved_models/weights.best.VGG16.hdf5\n",
      "Epoch 14/20\n",
      "6680/6680 [==============================] - 1s 135us/step - loss: 7.8187 - acc: 0.5009 - val_loss: 8.4568 - val_acc: 0.4108\n",
      "\n",
      "Epoch 00014: val_loss improved from 8.64152 to 8.45681, saving model to saved_models/weights.best.VGG16.hdf5\n",
      "Epoch 15/20\n",
      "6680/6680 [==============================] - 1s 137us/step - loss: 7.7538 - acc: 0.5073 - val_loss: 8.5108 - val_acc: 0.4156\n",
      "\n",
      "Epoch 00015: val_loss did not improve from 8.45681\n",
      "Epoch 16/20\n",
      "6680/6680 [==============================] - 1s 137us/step - loss: 7.7243 - acc: 0.5117 - val_loss: 8.4579 - val_acc: 0.4060\n",
      "\n",
      "Epoch 00016: val_loss did not improve from 8.45681\n",
      "Epoch 17/20\n",
      "6680/6680 [==============================] - 1s 134us/step - loss: 7.6114 - acc: 0.5159 - val_loss: 8.4228 - val_acc: 0.4060\n",
      "\n",
      "Epoch 00017: val_loss improved from 8.45681 to 8.42283, saving model to saved_models/weights.best.VGG16.hdf5\n",
      "Epoch 18/20\n",
      "6680/6680 [==============================] - 1s 137us/step - loss: 7.4927 - acc: 0.5251 - val_loss: 8.3093 - val_acc: 0.4132\n",
      "\n",
      "Epoch 00018: val_loss improved from 8.42283 to 8.30928, saving model to saved_models/weights.best.VGG16.hdf5\n",
      "Epoch 19/20\n",
      "6680/6680 [==============================] - 1s 136us/step - loss: 7.4123 - acc: 0.5292 - val_loss: 8.3706 - val_acc: 0.3976\n",
      "\n",
      "Epoch 00019: val_loss did not improve from 8.30928\n",
      "Epoch 20/20\n",
      "6680/6680 [==============================] - 1s 134us/step - loss: 7.3097 - acc: 0.5364 - val_loss: 8.1542 - val_acc: 0.4251\n",
      "\n",
      "Epoch 00020: val_loss improved from 8.30928 to 8.15417, saving model to saved_models/weights.best.VGG16.hdf5\n"
     ]
    },
    {
     "data": {
      "text/plain": [
       "<keras.callbacks.History at 0x7f13d1f021d0>"
      ]
     },
     "execution_count": 24,
     "metadata": {},
     "output_type": "execute_result"
    }
   ],
   "source": [
    "checkpointer = ModelCheckpoint(filepath='saved_models/weights.best.VGG16.hdf5', \n",
    "                               verbose=1, save_best_only=True)\n",
    "\n",
    "VGG16_model.fit(train_VGG16, train_targets, \n",
    "          validation_data=(valid_VGG16, valid_targets),\n",
    "          epochs=20, batch_size=20, callbacks=[checkpointer], verbose=1)"
   ]
  },
  {
   "cell_type": "markdown",
   "metadata": {},
   "source": [
    "### Load the Model with the Best Validation Loss"
   ]
  },
  {
   "cell_type": "code",
   "execution_count": 25,
   "metadata": {
    "collapsed": true
   },
   "outputs": [],
   "source": [
    "VGG16_model.load_weights('saved_models/weights.best.VGG16.hdf5')"
   ]
  },
  {
   "cell_type": "markdown",
   "metadata": {},
   "source": [
    "### Test the Model\n",
    "\n",
    "Now, we can use the CNN to test how well it identifies breed within our test dataset of dog images.  We print the test accuracy below."
   ]
  },
  {
   "cell_type": "code",
   "execution_count": 26,
   "metadata": {},
   "outputs": [
    {
     "name": "stdout",
     "output_type": "stream",
     "text": [
      "Test accuracy: 44.4976%\n"
     ]
    }
   ],
   "source": [
    "# get index of predicted dog breed for each image in test set\n",
    "VGG16_predictions = [np.argmax(VGG16_model.predict(np.expand_dims(feature, axis=0))) for feature in test_VGG16]\n",
    "\n",
    "# report test accuracy\n",
    "test_accuracy = 100*np.sum(np.array(VGG16_predictions)==np.argmax(test_targets, axis=1))/len(VGG16_predictions)\n",
    "print('Test accuracy: %.4f%%' % test_accuracy)"
   ]
  },
  {
   "cell_type": "markdown",
   "metadata": {},
   "source": [
    "### Predict Dog Breed with the Model"
   ]
  },
  {
   "cell_type": "code",
   "execution_count": 27,
   "metadata": {
    "collapsed": true
   },
   "outputs": [],
   "source": [
    "from extract_bottleneck_features import *\n",
    "\n",
    "def VGG16_predict_breed(img_path):\n",
    "    # extract bottleneck features\n",
    "    bottleneck_feature = extract_VGG16(path_to_tensor(img_path))\n",
    "    # obtain predicted vector\n",
    "    predicted_vector = VGG16_model.predict(bottleneck_feature)\n",
    "    # return dog breed that is predicted by the model\n",
    "    return dog_names[np.argmax(predicted_vector)]"
   ]
  },
  {
   "cell_type": "markdown",
   "metadata": {},
   "source": [
    "---\n",
    "<a id='step5'></a>\n",
    "## Step 5: Create a CNN to Classify Dog Breeds (using Transfer Learning)\n",
    "\n",
    "You will now use transfer learning to create a CNN that can identify dog breed from images.  Your CNN must attain at least 60% accuracy on the test set.\n",
    "\n",
    "In Step 4, we used transfer learning to create a CNN using VGG-16 bottleneck features.  In this section, you must use the bottleneck features from a different pre-trained model.  To make things easier for you, we have pre-computed the features for all of the networks that are currently available in Keras:\n",
    "- [VGG-19](https://s3-us-west-1.amazonaws.com/udacity-aind/dog-project/DogVGG19Data.npz) bottleneck features\n",
    "- [ResNet-50](https://s3-us-west-1.amazonaws.com/udacity-aind/dog-project/DogResnet50Data.npz) bottleneck features\n",
    "- [Inception](https://s3-us-west-1.amazonaws.com/udacity-aind/dog-project/DogInceptionV3Data.npz) bottleneck features\n",
    "- [Xception](https://s3-us-west-1.amazonaws.com/udacity-aind/dog-project/DogXceptionData.npz) bottleneck features\n",
    "\n",
    "The files are encoded as such:\n",
    "\n",
    "    Dog{network}Data.npz\n",
    "    \n",
    "where `{network}`, in the above filename, can be one of `VGG19`, `Resnet50`, `InceptionV3`, or `Xception`.  Pick one of the above architectures, download the corresponding bottleneck features, and store the downloaded file in the `bottleneck_features/` folder in the repository.\n",
    "\n",
    "### (IMPLEMENTATION) Obtain Bottleneck Features\n",
    "\n",
    "In the code block below, extract the bottleneck features corresponding to the train, test, and validation sets by running the following:\n",
    "\n",
    "    bottleneck_features = np.load('bottleneck_features/Dog{network}Data.npz')\n",
    "    train_{network} = bottleneck_features['train']\n",
    "    valid_{network} = bottleneck_features['valid']\n",
    "    test_{network} = bottleneck_features['test']"
   ]
  },
  {
   "cell_type": "code",
   "execution_count": 28,
   "metadata": {},
   "outputs": [],
   "source": [
    "### TODO: Obtain bottleneck features from another pre-trained CNN.\n",
    "bottleneck_features = np.load('./bottleneck_features/DogVGG19Data.npz')\n",
    "train_VGG19 = bottleneck_features['train']\n",
    "valid_VGG19 = bottleneck_features['valid']\n",
    "test_VGG19 = bottleneck_features['test']\n",
    "\n",
    "bottleneck_features = np.load('./bottleneck_features/DogResnet50Data.npz')\n",
    "train_Resnet50 = bottleneck_features['train']\n",
    "valid_Resnet50 = bottleneck_features['valid']\n",
    "test_Resnet50 = bottleneck_features['test']\n",
    "\n",
    "bottleneck_features = np.load('./bottleneck_features/DogInceptionV3Data.npz')\n",
    "train_InceptionV3 = bottleneck_features['train']\n",
    "valid_InceptionV3 = bottleneck_features['valid']\n",
    "test_InceptionV3 = bottleneck_features['test']\n",
    "\n",
    "bottleneck_features = np.load('./bottleneck_features/DogXceptionData.npz')\n",
    "train_Xception = bottleneck_features['train']\n",
    "valid_Xception = bottleneck_features['valid']\n",
    "test_Xception = bottleneck_features['test']"
   ]
  },
  {
   "cell_type": "code",
   "execution_count": 29,
   "metadata": {},
   "outputs": [
    {
     "name": "stdout",
     "output_type": "stream",
     "text": [
      "(6680, 7, 7, 512)\n",
      "(6680, 1, 1, 2048)\n",
      "(6680, 5, 5, 2048)\n",
      "(6680, 7, 7, 2048)\n"
     ]
    }
   ],
   "source": [
    "print (train_VGG19.shape)\n",
    "print (train_Resnet50.shape)\n",
    "print (train_InceptionV3.shape)\n",
    "print (train_Xception.shape)"
   ]
  },
  {
   "cell_type": "markdown",
   "metadata": {},
   "source": [
    "### (IMPLEMENTATION) Model Architecture\n",
    "\n",
    "Create a CNN to classify dog breed.  At the end of your code cell block, summarize the layers of your model by executing the line:\n",
    "    \n",
    "        <your model's name>.summary()\n",
    "   \n",
    "__Question 5:__ Outline the steps you took to get to your final CNN architecture and your reasoning at each step.  Describe why you think the architecture is suitable for the current problem.\n",
    "\n",
    "__Answer:__ I will try to use all VGG19, Resnet50, InceptionV3 and Xception to see which will prefomr better in terms of the accuracy rate. Sequential model will be used initally to stack layers. After that, becasue CNN is designed to take advantage of the 2D structure of an input image, we need 2D convolution layer that will be use to reates a convolution kernel that is convolved with the layer input to produce a tensor of outputs. With convolution layer, we would extract the features of each photo and learn by it. Then, global average pooling layer as a fully connected layer. Finally, a softmax activation layer with the required units given all the possible dog breeds. \n",
    "Here is a [supporting acticle](https://adeshpande3.github.io/adeshpande3.github.io/A-Beginner%27s-Guide-To-Understanding-Convolutional-Neural-Networks/) to discuss every step in a much deeper way\n",
    "\n",
    "I will do it for all VGG19, Resnet50, InceptionV3 and Xception. Finally, I will pick the one with highest accurate rate to go deeper.\n"
   ]
  },
  {
   "cell_type": "code",
   "execution_count": 30,
   "metadata": {},
   "outputs": [
    {
     "name": "stdout",
     "output_type": "stream",
     "text": [
      "Model: \"sequential_3\"\n",
      "_________________________________________________________________\n",
      "Layer (type)                 Output Shape              Param #   \n",
      "=================================================================\n",
      "conv2d_4 (Conv2D)            (None, 6, 6, 16)          32784     \n",
      "_________________________________________________________________\n",
      "max_pooling2d_5 (MaxPooling2 (None, 3, 3, 16)          0         \n",
      "_________________________________________________________________\n",
      "conv2d_5 (Conv2D)            (None, 2, 2, 32)          2080      \n",
      "_________________________________________________________________\n",
      "max_pooling2d_6 (MaxPooling2 (None, 1, 1, 32)          0         \n",
      "_________________________________________________________________\n",
      "global_average_pooling2d_3 ( (None, 32)                0         \n",
      "_________________________________________________________________\n",
      "dense_3 (Dense)              (None, 133)               4389      \n",
      "=================================================================\n",
      "Total params: 39,253\n",
      "Trainable params: 39,253\n",
      "Non-trainable params: 0\n",
      "_________________________________________________________________\n",
      "Model: \"sequential_4\"\n",
      "_________________________________________________________________\n",
      "Layer (type)                 Output Shape              Param #   \n",
      "=================================================================\n",
      "conv2d_6 (Conv2D)            (None, 1, 1, 16)          32784     \n",
      "_________________________________________________________________\n",
      "max_pooling2d_7 (MaxPooling2 (None, 1, 1, 16)          0         \n",
      "_________________________________________________________________\n",
      "global_average_pooling2d_4 ( (None, 16)                0         \n",
      "_________________________________________________________________\n",
      "dense_4 (Dense)              (None, 133)               2261      \n",
      "=================================================================\n",
      "Total params: 35,045\n",
      "Trainable params: 35,045\n",
      "Non-trainable params: 0\n",
      "_________________________________________________________________\n",
      "Model: \"sequential_5\"\n",
      "_________________________________________________________________\n",
      "Layer (type)                 Output Shape              Param #   \n",
      "=================================================================\n",
      "conv2d_7 (Conv2D)            (None, 4, 4, 16)          131088    \n",
      "_________________________________________________________________\n",
      "max_pooling2d_8 (MaxPooling2 (None, 2, 2, 16)          0         \n",
      "_________________________________________________________________\n",
      "global_average_pooling2d_5 ( (None, 16)                0         \n",
      "_________________________________________________________________\n",
      "dense_5 (Dense)              (None, 133)               2261      \n",
      "=================================================================\n",
      "Total params: 133,349\n",
      "Trainable params: 133,349\n",
      "Non-trainable params: 0\n",
      "_________________________________________________________________\n",
      "Model: \"sequential_6\"\n",
      "_________________________________________________________________\n",
      "Layer (type)                 Output Shape              Param #   \n",
      "=================================================================\n",
      "conv2d_8 (Conv2D)            (None, 6, 6, 16)          131088    \n",
      "_________________________________________________________________\n",
      "max_pooling2d_9 (MaxPooling2 (None, 3, 3, 16)          0         \n",
      "_________________________________________________________________\n",
      "conv2d_9 (Conv2D)            (None, 2, 2, 32)          2080      \n",
      "_________________________________________________________________\n",
      "max_pooling2d_10 (MaxPooling (None, 1, 1, 32)          0         \n",
      "_________________________________________________________________\n",
      "global_average_pooling2d_6 ( (None, 32)                0         \n",
      "_________________________________________________________________\n",
      "dense_6 (Dense)              (None, 133)               4389      \n",
      "=================================================================\n",
      "Total params: 137,557\n",
      "Trainable params: 137,557\n",
      "Non-trainable params: 0\n",
      "_________________________________________________________________\n"
     ]
    }
   ],
   "source": [
    "## TODO: Define your architecture.\n",
    "VGG19_model = Sequential()\n",
    "VGG19_model.add(Conv2D(filters = 16, kernel_size = 2, strides=1, padding='valid', input_shape = train_VGG19.shape[1:]))\n",
    "VGG19_model.add(MaxPooling2D(pool_size=2, strides=2, padding='valid'))\n",
    "VGG19_model.add(Conv2D(filters = 32, kernel_size = 2, strides=1, padding='valid'))\n",
    "VGG19_model.add(MaxPooling2D(pool_size=2, strides=2, padding='valid'))\n",
    "VGG19_model.add(GlobalAveragePooling2D())\n",
    "VGG19_model.add(Dense(133, activation='softmax'))\n",
    "VGG19_model.summary()\n",
    "\n",
    "Resnet50_model = Sequential()\n",
    "Resnet50_model.add(Conv2D(filters = 16, kernel_size = 1, strides=1, padding='valid', input_shape = train_Resnet50.shape[1:]))\n",
    "Resnet50_model.add(MaxPooling2D(pool_size=1, strides=2, padding='valid'))\n",
    "Resnet50_model.add(GlobalAveragePooling2D())\n",
    "Resnet50_model.add(Dense(133, activation='softmax'))\n",
    "Resnet50_model.summary()\n",
    "\n",
    "InceptionV3_model = Sequential()\n",
    "InceptionV3_model.add(Conv2D(filters = 16, kernel_size = 2, strides=1, padding='valid', input_shape = train_InceptionV3.shape[1:]))\n",
    "InceptionV3_model.add(MaxPooling2D(pool_size=2, strides=2, padding='valid'))\n",
    "InceptionV3_model.add(GlobalAveragePooling2D())\n",
    "InceptionV3_model.add(Dense(133, activation='softmax'))\n",
    "InceptionV3_model.summary()\n",
    "\n",
    "Xception_model = Sequential()\n",
    "Xception_model.add(Conv2D(filters = 16, kernel_size = 2, strides=1, padding='valid', input_shape = train_Xception.shape[1:]))\n",
    "Xception_model.add(MaxPooling2D(pool_size=2, strides=2, padding='valid'))\n",
    "Xception_model.add(Conv2D(filters = 32, kernel_size = 2, strides=1, padding='valid'))\n",
    "Xception_model.add(MaxPooling2D(pool_size=2, strides=2, padding='valid'))\n",
    "Xception_model.add(GlobalAveragePooling2D())\n",
    "Xception_model.add(Dense(133, activation='softmax'))\n",
    "Xception_model.summary()\n"
   ]
  },
  {
   "cell_type": "markdown",
   "metadata": {},
   "source": [
    "### (IMPLEMENTATION) Compile the Model"
   ]
  },
  {
   "cell_type": "code",
   "execution_count": 31,
   "metadata": {
    "collapsed": true
   },
   "outputs": [],
   "source": [
    "### TODO: Compile the model.\n",
    "VGG19_model.compile(optimizer='rmsprop', loss='categorical_crossentropy', metrics=['accuracy'])\n",
    "Resnet50_model.compile(optimizer='rmsprop', loss='categorical_crossentropy', metrics=['accuracy'])\n",
    "InceptionV3_model.compile(optimizer='rmsprop', loss='categorical_crossentropy', metrics=['accuracy'])\n",
    "Xception_model.compile(optimizer='rmsprop', loss='categorical_crossentropy', metrics=['accuracy'])"
   ]
  },
  {
   "cell_type": "markdown",
   "metadata": {},
   "source": [
    "### (IMPLEMENTATION) Train the Model\n",
    "\n",
    "Train your model in the code cell below.  Use model checkpointing to save the model that attains the best validation loss.  \n",
    "\n",
    "You are welcome to [augment the training data](https://blog.keras.io/building-powerful-image-classification-models-using-very-little-data.html), but this is not a requirement. "
   ]
  },
  {
   "cell_type": "code",
   "execution_count": 32,
   "metadata": {},
   "outputs": [
    {
     "name": "stdout",
     "output_type": "stream",
     "text": [
      "Train on 6680 samples, validate on 835 samples\n",
      "Epoch 1/10\n",
      "6680/6680 [==============================] - 24s 4ms/step - loss: 13.6760 - acc: 0.0772 - val_loss: 11.9680 - val_acc: 0.1593\n",
      "\n",
      "Epoch 00001: val_loss improved from inf to 11.96798, saving model to saved_models/weights.best.VGG19.hdf5\n",
      "Epoch 2/10\n",
      "6680/6680 [==============================] - 1s 214us/step - loss: 10.7575 - acc: 0.2292 - val_loss: 10.3574 - val_acc: 0.2263\n",
      "\n",
      "Epoch 00002: val_loss improved from 11.96798 to 10.35740, saving model to saved_models/weights.best.VGG19.hdf5\n",
      "Epoch 3/10\n",
      "6680/6680 [==============================] - 1s 221us/step - loss: 9.5271 - acc: 0.3090 - val_loss: 9.7449 - val_acc: 0.2922\n",
      "\n",
      "Epoch 00003: val_loss improved from 10.35740 to 9.74490, saving model to saved_models/weights.best.VGG19.hdf5\n",
      "Epoch 4/10\n",
      "6680/6680 [==============================] - 1s 209us/step - loss: 8.7917 - acc: 0.3681 - val_loss: 9.8186 - val_acc: 0.2862\n",
      "\n",
      "Epoch 00004: val_loss did not improve from 9.74490\n",
      "Epoch 5/10\n",
      "6680/6680 [==============================] - 1s 210us/step - loss: 8.2892 - acc: 0.4082 - val_loss: 9.2442 - val_acc: 0.3078\n",
      "\n",
      "Epoch 00005: val_loss improved from 9.74490 to 9.24424, saving model to saved_models/weights.best.VGG19.hdf5\n",
      "Epoch 6/10\n",
      "6680/6680 [==============================] - 2s 226us/step - loss: 7.8737 - acc: 0.4473 - val_loss: 9.1378 - val_acc: 0.3222\n",
      "\n",
      "Epoch 00006: val_loss improved from 9.24424 to 9.13777, saving model to saved_models/weights.best.VGG19.hdf5\n",
      "Epoch 7/10\n",
      "6680/6680 [==============================] - 1s 217us/step - loss: 7.5923 - acc: 0.4702 - val_loss: 9.0528 - val_acc: 0.3305\n",
      "\n",
      "Epoch 00007: val_loss improved from 9.13777 to 9.05281, saving model to saved_models/weights.best.VGG19.hdf5\n",
      "Epoch 8/10\n",
      "6680/6680 [==============================] - 1s 205us/step - loss: 7.4414 - acc: 0.4873 - val_loss: 8.8780 - val_acc: 0.3485\n",
      "\n",
      "Epoch 00008: val_loss improved from 9.05281 to 8.87803, saving model to saved_models/weights.best.VGG19.hdf5\n",
      "Epoch 9/10\n",
      "6680/6680 [==============================] - 1s 193us/step - loss: 7.2435 - acc: 0.5033 - val_loss: 8.6911 - val_acc: 0.3593\n",
      "\n",
      "Epoch 00009: val_loss improved from 8.87803 to 8.69110, saving model to saved_models/weights.best.VGG19.hdf5\n",
      "Epoch 10/10\n",
      "6680/6680 [==============================] - 1s 196us/step - loss: 7.0194 - acc: 0.5177 - val_loss: 8.6889 - val_acc: 0.3653\n",
      "\n",
      "Epoch 00010: val_loss improved from 8.69110 to 8.68892, saving model to saved_models/weights.best.VGG19.hdf5\n",
      "Train on 6680 samples, validate on 835 samples\n",
      "Epoch 1/10\n",
      "6680/6680 [==============================] - 3s 440us/step - loss: 3.3776 - acc: 0.2771 - val_loss: 2.1630 - val_acc: 0.4743\n",
      "\n",
      "Epoch 00001: val_loss improved from inf to 2.16302, saving model to saved_models/weights.best.Resnet50.hdf5\n",
      "Epoch 2/10\n",
      "6680/6680 [==============================] - 1s 145us/step - loss: 1.5120 - acc: 0.6289 - val_loss: 1.3058 - val_acc: 0.6587\n",
      "\n",
      "Epoch 00002: val_loss improved from 2.16302 to 1.30581, saving model to saved_models/weights.best.Resnet50.hdf5\n",
      "Epoch 3/10\n",
      "6680/6680 [==============================] - 1s 143us/step - loss: 0.9853 - acc: 0.7370 - val_loss: 1.0559 - val_acc: 0.7114\n",
      "\n",
      "Epoch 00003: val_loss improved from 1.30581 to 1.05593, saving model to saved_models/weights.best.Resnet50.hdf5\n",
      "Epoch 4/10\n",
      "6680/6680 [==============================] - 1s 134us/step - loss: 0.7772 - acc: 0.7910 - val_loss: 1.0098 - val_acc: 0.7078\n",
      "\n",
      "Epoch 00004: val_loss improved from 1.05593 to 1.00985, saving model to saved_models/weights.best.Resnet50.hdf5\n",
      "Epoch 5/10\n",
      "6680/6680 [==============================] - 1s 127us/step - loss: 0.6697 - acc: 0.8129 - val_loss: 0.9220 - val_acc: 0.7305\n",
      "\n",
      "Epoch 00005: val_loss improved from 1.00985 to 0.92205, saving model to saved_models/weights.best.Resnet50.hdf5\n",
      "Epoch 6/10\n",
      "6680/6680 [==============================] - 1s 153us/step - loss: 0.5956 - acc: 0.8338 - val_loss: 0.8874 - val_acc: 0.7246\n",
      "\n",
      "Epoch 00006: val_loss improved from 0.92205 to 0.88739, saving model to saved_models/weights.best.Resnet50.hdf5\n",
      "Epoch 7/10\n",
      "6680/6680 [==============================] - 1s 124us/step - loss: 0.5380 - acc: 0.8531 - val_loss: 0.8802 - val_acc: 0.7425\n",
      "\n",
      "Epoch 00007: val_loss improved from 0.88739 to 0.88016, saving model to saved_models/weights.best.Resnet50.hdf5\n",
      "Epoch 8/10\n",
      "6680/6680 [==============================] - 1s 126us/step - loss: 0.4956 - acc: 0.8636 - val_loss: 0.8437 - val_acc: 0.7605\n",
      "\n",
      "Epoch 00008: val_loss improved from 0.88016 to 0.84375, saving model to saved_models/weights.best.Resnet50.hdf5\n",
      "Epoch 9/10\n",
      "6680/6680 [==============================] - 1s 124us/step - loss: 0.4551 - acc: 0.8775 - val_loss: 0.8909 - val_acc: 0.7413\n",
      "\n",
      "Epoch 00009: val_loss did not improve from 0.84375\n",
      "Epoch 10/10\n",
      "6680/6680 [==============================] - 1s 131us/step - loss: 0.4251 - acc: 0.8844 - val_loss: 0.8670 - val_acc: 0.7341\n",
      "\n",
      "Epoch 00010: val_loss did not improve from 0.84375\n",
      "Train on 6680 samples, validate on 835 samples\n",
      "Epoch 1/10\n",
      "6680/6680 [==============================] - 3s 502us/step - loss: 2.2281 - acc: 0.5156 - val_loss: 1.2002 - val_acc: 0.7054\n",
      "\n",
      "Epoch 00001: val_loss improved from inf to 1.20017, saving model to saved_models/weights.best.InceptionV3.hdf5\n",
      "Epoch 2/10\n",
      "6680/6680 [==============================] - 2s 243us/step - loss: 0.9247 - acc: 0.7545 - val_loss: 0.8645 - val_acc: 0.7760\n",
      "\n",
      "Epoch 00002: val_loss improved from 1.20017 to 0.86450, saving model to saved_models/weights.best.InceptionV3.hdf5\n",
      "Epoch 3/10\n",
      "6680/6680 [==============================] - 2s 243us/step - loss: 0.6518 - acc: 0.8135 - val_loss: 0.8419 - val_acc: 0.8024\n",
      "\n",
      "Epoch 00003: val_loss improved from 0.86450 to 0.84194, saving model to saved_models/weights.best.InceptionV3.hdf5\n",
      "Epoch 4/10\n",
      "6680/6680 [==============================] - 2s 242us/step - loss: 0.5104 - acc: 0.8440 - val_loss: 0.8469 - val_acc: 0.7964\n",
      "\n",
      "Epoch 00004: val_loss did not improve from 0.84194\n",
      "Epoch 5/10\n",
      "6680/6680 [==============================] - 2s 245us/step - loss: 0.4096 - acc: 0.8749 - val_loss: 0.8911 - val_acc: 0.7760\n",
      "\n",
      "Epoch 00005: val_loss did not improve from 0.84194\n",
      "Epoch 6/10\n",
      "6680/6680 [==============================] - 2s 242us/step - loss: 0.3382 - acc: 0.8981 - val_loss: 0.8408 - val_acc: 0.7904\n",
      "\n",
      "Epoch 00006: val_loss improved from 0.84194 to 0.84078, saving model to saved_models/weights.best.InceptionV3.hdf5\n",
      "Epoch 7/10\n",
      "6680/6680 [==============================] - 2s 242us/step - loss: 0.2836 - acc: 0.9106 - val_loss: 0.8561 - val_acc: 0.7988\n",
      "\n",
      "Epoch 00007: val_loss did not improve from 0.84078\n",
      "Epoch 8/10\n",
      "6680/6680 [==============================] - 2s 240us/step - loss: 0.2353 - acc: 0.9257 - val_loss: 0.8820 - val_acc: 0.7940\n",
      "\n",
      "Epoch 00008: val_loss did not improve from 0.84078\n",
      "Epoch 9/10\n",
      "6680/6680 [==============================] - 2s 241us/step - loss: 0.2051 - acc: 0.9331 - val_loss: 0.9982 - val_acc: 0.7749\n",
      "\n",
      "Epoch 00009: val_loss did not improve from 0.84078\n",
      "Epoch 10/10\n",
      "6680/6680 [==============================] - 2s 240us/step - loss: 0.1761 - acc: 0.9446 - val_loss: 0.9217 - val_acc: 0.7964\n",
      "\n",
      "Epoch 00010: val_loss did not improve from 0.84078\n",
      "Train on 6680 samples, validate on 835 samples\n",
      "Epoch 1/10\n",
      "6680/6680 [==============================] - 4s 635us/step - loss: 2.2225 - acc: 0.5120 - val_loss: 1.1552 - val_acc: 0.6838\n",
      "\n",
      "Epoch 00001: val_loss improved from inf to 1.15517, saving model to saved_models/weights.best.Xception.hdf5\n",
      "Epoch 2/10\n",
      "6680/6680 [==============================] - 2s 360us/step - loss: 0.8662 - acc: 0.7624 - val_loss: 1.0295 - val_acc: 0.7341\n",
      "\n",
      "Epoch 00002: val_loss improved from 1.15517 to 1.02955, saving model to saved_models/weights.best.Xception.hdf5\n",
      "Epoch 3/10\n",
      "6680/6680 [==============================] - 2s 358us/step - loss: 0.6012 - acc: 0.8256 - val_loss: 1.0352 - val_acc: 0.7257\n",
      "\n",
      "Epoch 00003: val_loss did not improve from 1.02955\n",
      "Epoch 4/10\n",
      "6680/6680 [==============================] - 3s 375us/step - loss: 0.4504 - acc: 0.8657 - val_loss: 0.9005 - val_acc: 0.7665\n",
      "\n",
      "Epoch 00004: val_loss improved from 1.02955 to 0.90049, saving model to saved_models/weights.best.Xception.hdf5\n",
      "Epoch 5/10\n",
      "6680/6680 [==============================] - 2s 372us/step - loss: 0.3432 - acc: 0.8957 - val_loss: 0.9789 - val_acc: 0.7485\n",
      "\n",
      "Epoch 00005: val_loss did not improve from 0.90049\n",
      "Epoch 6/10\n"
     ]
    },
    {
     "name": "stdout",
     "output_type": "stream",
     "text": [
      "6680/6680 [==============================] - 3s 386us/step - loss: 0.2675 - acc: 0.9151 - val_loss: 0.9996 - val_acc: 0.7449\n",
      "\n",
      "Epoch 00006: val_loss did not improve from 0.90049\n",
      "Epoch 7/10\n",
      "6680/6680 [==============================] - 2s 362us/step - loss: 0.2187 - acc: 0.9304 - val_loss: 1.0820 - val_acc: 0.7557\n",
      "\n",
      "Epoch 00007: val_loss did not improve from 0.90049\n",
      "Epoch 8/10\n",
      "6680/6680 [==============================] - 2s 363us/step - loss: 0.1745 - acc: 0.9452 - val_loss: 1.2790 - val_acc: 0.7269\n",
      "\n",
      "Epoch 00008: val_loss did not improve from 0.90049\n",
      "Epoch 9/10\n",
      "6680/6680 [==============================] - 2s 366us/step - loss: 0.1458 - acc: 0.9552 - val_loss: 1.1498 - val_acc: 0.7653\n",
      "\n",
      "Epoch 00009: val_loss did not improve from 0.90049\n",
      "Epoch 10/10\n",
      "6680/6680 [==============================] - 2s 363us/step - loss: 0.1154 - acc: 0.9609 - val_loss: 1.1145 - val_acc: 0.7569\n",
      "\n",
      "Epoch 00010: val_loss did not improve from 0.90049\n"
     ]
    },
    {
     "data": {
      "text/plain": [
       "<keras.callbacks.History at 0x7f13d12f6b00>"
      ]
     },
     "execution_count": 32,
     "metadata": {},
     "output_type": "execute_result"
    }
   ],
   "source": [
    "### TODO: Train the model.\n",
    "from keras.callbacks import ModelCheckpoint  \n",
    "\n",
    "\n",
    "epochs = 10\n",
    "checkpointer = ModelCheckpoint(filepath='saved_models/weights.best.VGG19.hdf5', \n",
    "                               verbose=1, save_best_only=True)\n",
    "VGG19_model.fit(train_VGG19, train_targets, \n",
    "          validation_data=(valid_VGG19, valid_targets),\n",
    "          epochs=epochs, batch_size=20, callbacks=[checkpointer], verbose=1)\n",
    "\n",
    "\n",
    "epochs = 10\n",
    "checkpointer = ModelCheckpoint(filepath='saved_models/weights.best.Resnet50.hdf5', \n",
    "                               verbose=1, save_best_only=True)\n",
    "Resnet50_model.fit(train_Resnet50, train_targets, \n",
    "          validation_data=(valid_Resnet50, valid_targets),\n",
    "          epochs=epochs, batch_size=20, callbacks=[checkpointer], verbose=1)\n",
    "\n",
    "\n",
    "epochs = 10\n",
    "checkpointer = ModelCheckpoint(filepath='saved_models/weights.best.InceptionV3.hdf5', \n",
    "                               verbose=1, save_best_only=True)\n",
    "InceptionV3_model.fit(train_InceptionV3, train_targets, \n",
    "          validation_data=(valid_InceptionV3, valid_targets),\n",
    "          epochs=epochs, batch_size=20, callbacks=[checkpointer], verbose=1)\n",
    "\n",
    "\n",
    "epochs = 10\n",
    "checkpointer = ModelCheckpoint(filepath='saved_models/weights.best.Xception.hdf5', \n",
    "                               verbose=1, save_best_only=True)\n",
    "Xception_model.fit(train_Xception, train_targets, \n",
    "          validation_data=(valid_Xception, valid_targets),\n",
    "          epochs=epochs, batch_size=20, callbacks=[checkpointer], verbose=1)"
   ]
  },
  {
   "cell_type": "markdown",
   "metadata": {},
   "source": [
    "### (IMPLEMENTATION) Load the Model with the Best Validation Loss"
   ]
  },
  {
   "cell_type": "code",
   "execution_count": 33,
   "metadata": {
    "collapsed": true
   },
   "outputs": [],
   "source": [
    "### TODO: Load the model weights with the best validation loss.\n",
    "VGG19_model.load_weights('saved_models/weights.best.VGG19.hdf5')\n",
    "Resnet50_model.load_weights('saved_models/weights.best.Resnet50.hdf5')\n",
    "InceptionV3_model.load_weights('saved_models/weights.best.InceptionV3.hdf5')\n",
    "Xception_model.load_weights('saved_models/weights.best.Xception.hdf5')\n"
   ]
  },
  {
   "cell_type": "markdown",
   "metadata": {},
   "source": [
    "### (IMPLEMENTATION) Test the Model\n",
    "\n",
    "Try out your model on the test dataset of dog images. Ensure that your test accuracy is greater than 60%."
   ]
  },
  {
   "cell_type": "code",
   "execution_count": 34,
   "metadata": {},
   "outputs": [
    {
     "name": "stdout",
     "output_type": "stream",
     "text": [
      "VGG19_model accuracy: 33.9713%\n",
      "Resnet50_model accuracy: 75.1196%\n",
      "InceptionV3_model accuracy: 76.3158%\n",
      "Xception_model accuracy:  76.1962%\n"
     ]
    }
   ],
   "source": [
    "### TODO: Calculate classification accuracy on the test dataset.\n",
    "score = (VGG19_model.evaluate(test_VGG19, test_targets, verbose=0))[1] * 100\n",
    "print(\"VGG19_model accuracy: %.4f%%\" % score)\n",
    "score = Resnet50_model.evaluate(test_Resnet50, test_targets, verbose=0)[1] * 100\n",
    "print(\"Resnet50_model accuracy: %.4f%%\" % score)\n",
    "score = InceptionV3_model.evaluate(test_InceptionV3, test_targets, verbose=0)[1] * 100\n",
    "print(\"InceptionV3_model accuracy: %.4f%%\" % score)\n",
    "score = Xception_model.evaluate(test_Xception, test_targets, verbose=0)[1] * 100\n",
    "print(\"Xception_model accuracy:  %.4f%%\" %score)"
   ]
  },
  {
   "cell_type": "markdown",
   "metadata": {},
   "source": [
    "### (IMPLEMENTATION) Predict Dog Breed with the Model\n",
    "\n",
    "Write a function that takes an image path as input and returns the dog breed (`Affenpinscher`, `Afghan_hound`, etc) that is predicted by your model.  \n",
    "\n",
    "Similar to the analogous function in Step 5, your function should have three steps:\n",
    "1. Extract the bottleneck features corresponding to the chosen CNN model.\n",
    "2. Supply the bottleneck features as input to the model to return the predicted vector.  Note that the argmax of this prediction vector gives the index of the predicted dog breed.\n",
    "3. Use the `dog_names` array defined in Step 0 of this notebook to return the corresponding breed.\n",
    "\n",
    "The functions to extract the bottleneck features can be found in `extract_bottleneck_features.py`, and they have been imported in an earlier code cell.  To obtain the bottleneck features corresponding to your chosen CNN architecture, you need to use the function\n",
    "\n",
    "    extract_{network}\n",
    "    \n",
    "where `{network}`, in the above filename, should be one of `VGG19`, `Resnet50`, `InceptionV3`, or `Xception`."
   ]
  },
  {
   "cell_type": "code",
   "execution_count": 35,
   "metadata": {
    "collapsed": true
   },
   "outputs": [],
   "source": [
    "### TODO: Write a function that takes a path to an image as input\n",
    "### and returns the dog breed that is predicted by the model.\n",
    "def Resnet50_predict_breed(img_path):\n",
    "    #Extract features from Resnet using the prebuilt functions\n",
    "    feature = extract_Resnet50(path_to_tensor(img_path))\n",
    "    #Make a prediction\n",
    "    prediction = Resnet50_model.predict(feature)\n",
    "    #Find and return the corresponding dog breed\n",
    "    dogbreed_index = np.argmax(prediction)\n",
    "    return dog_names[dogbreed_index]"
   ]
  },
  {
   "cell_type": "markdown",
   "metadata": {},
   "source": [
    "---\n",
    "<a id='step6'></a>\n",
    "## Step 6: Write your Algorithm\n",
    "\n",
    "Write an algorithm that accepts a file path to an image and first determines whether the image contains a human, dog, or neither.  Then,\n",
    "- if a __dog__ is detected in the image, return the predicted breed.\n",
    "- if a __human__ is detected in the image, return the resembling dog breed.\n",
    "- if __neither__ is detected in the image, provide output that indicates an error.\n",
    "\n",
    "You are welcome to write your own functions for detecting humans and dogs in images, but feel free to use the `face_detector` and `dog_detector` functions developed above.  You are __required__ to use your CNN from Step 5 to predict dog breed.  \n",
    "\n",
    "Some sample output for our algorithm is provided below, but feel free to design your own user experience!\n",
    "\n",
    "![Sample Human Output](images/sample_human_output.png)\n",
    "\n",
    "\n",
    "### (IMPLEMENTATION) Write your Algorithm"
   ]
  },
  {
   "cell_type": "code",
   "execution_count": 36,
   "metadata": {
    "collapsed": true
   },
   "outputs": [],
   "source": [
    "### TODO: Write your algorithm.\n",
    "### Feel free to use as many code cells as needed.\n",
    "from keras.preprocessing import image\n",
    "from IPython.display import Image\n",
    "import os, random\n",
    "\n",
    "def detector(img_path):\n",
    "    print(\"Photo from %s\" %img_path)\n",
    "    img = image.load_img(img_path)\n",
    "    display(Image(filename=img_path))\n",
    "    if not (dog_detector(img_path) or face_detector(img_path)):\n",
    "        print (\"Sorry! Neither dogs nor human were detected in this image!\")\n",
    "        print (\"Please re-try\")\n",
    "        return\n",
    "    if dog_detector(img_path):\n",
    "        print(\"This is a dog\\n\")\n",
    "    elif face_detector(img_path):\n",
    "        print(\"This is a human\\n\")\n",
    "    #Find the resembling dog breed\n",
    "    breed = Resnet50_predict_breed(img_path)\n",
    "\n",
    "    if dog_detector(img_path):\n",
    "        print(\"It resembles a %s\" % breed)\n",
    "    elif face_detector(img_path):\n",
    "        print(\"He/She resembles a %s\" % breed)\n",
    "    print ('Here is a sample photo of %s'%breed)\n",
    "    example_path = '/home/david/coding/Artificial-Intelligence-Nanodegree/dog-project/dogImages/train/'\n",
    "    dog_photo = os.listdir(example_path)\n",
    "    resemble = breed\n",
    "\n",
    "    for dog in dog_photo:\n",
    "        if resemble in dog:\n",
    "            folder = example_path + dog + '/'\n",
    "            example = folder + random.choice(os.listdir(folder))\n",
    "            display(Image(filename=(example)))"
   ]
  },
  {
   "cell_type": "code",
   "execution_count": 38,
   "metadata": {},
   "outputs": [],
   "source": [
    "mlflow.keras.save_model(Resnet50_model,'./model')"
   ]
  }
 ],
 "metadata": {
  "anaconda-cloud": {},
  "kernelspec": {
   "display_name": "Python 3",
   "language": "python",
   "name": "python3"
  },
  "language_info": {
   "codemirror_mode": {
    "name": "ipython",
    "version": 3
   },
   "file_extension": ".py",
   "mimetype": "text/x-python",
   "name": "python",
   "nbconvert_exporter": "python",
   "pygments_lexer": "ipython3",
   "version": "3.6.3"
  }
 },
 "nbformat": 4,
 "nbformat_minor": 1
}
